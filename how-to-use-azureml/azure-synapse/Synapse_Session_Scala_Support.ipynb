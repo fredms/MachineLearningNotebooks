{
  "cells": [
    {
      "cell_type": "markdown",
      "source": [
        "# Interactive Spark Session on Synapse Spark Pool"
      ],
      "metadata": {}
    },
    {
      "cell_type": "code",
      "source": [
        "!pip install -U \"azureml-synapse\""
      ],
      "outputs": [],
      "execution_count": null,
      "metadata": {}
    },
    {
      "cell_type": "markdown",
      "source": [
        "For JupyterLab, please additionally run:"
      ],
      "metadata": {}
    },
    {
      "cell_type": "code",
      "source": [
        "!jupyter lab build --minimize=False"
      ],
      "outputs": [],
      "execution_count": null,
      "metadata": {}
    },
    {
      "cell_type": "markdown",
      "source": [
        "## PLEASE restart kernel and then refresh web page before starting spark session."
      ],
      "metadata": {}
    },
    {
      "cell_type": "markdown",
      "source": [
        "## 0. Magic Usage"
      ],
      "metadata": {}
    },
    {
      "cell_type": "code",
      "source": [
        "# show help\n",
        "%synapse ?"
      ],
      "outputs": [],
      "execution_count": null,
      "metadata": {
        "execution": {
          "iopub.execute_input": "2020-06-05T03:22:14.965395Z",
          "iopub.status.busy": "2020-06-05T03:22:14.965395Z",
          "iopub.status.idle": "2020-06-05T03:22:14.970398Z",
          "shell.execute_reply": "2020-06-05T03:22:14.969397Z",
          "shell.execute_reply.started": "2020-06-05T03:22:14.965395Z"
        },
        "gather": {
          "logged": 1615594584642
        }
      }
    },
    {
      "cell_type": "markdown",
      "source": [
        "# 1. Start Synapse Session"
      ],
      "metadata": {}
    },
    {
      "cell_type": "code",
      "source": [
        "%synapse start -c linktestpool --start-timeout 1000"
      ],
      "outputs": [],
      "execution_count": null,
      "metadata": {
        "gather": {
          "logged": 1615577715289
        }
      }
    },
    {
      "cell_type": "markdown",
      "source": [
        "# 2. Use Scala"
      ],
      "metadata": {
        "nteract": {
          "transient": {
            "deleting": false
          }
        }
      }
    },
    {
      "cell_type": "markdown",
      "source": [
        "## (1) Read Data"
      ],
      "metadata": {
        "nteract": {
          "transient": {
            "deleting": false
          }
        }
      }
    },
    {
      "cell_type": "code",
      "source": [
        "%%synapse scala\r\n",
        "\r\n",
        "var df = spark.read.option(\"header\", \"true\").csv(\"wasbs://demo@dprepdata.blob.core.windows.net/Titanic.csv\")\r\n",
        "df.show(5)"
      ],
      "outputs": [],
      "execution_count": null,
      "metadata": {
        "collapsed": true,
        "jupyter": {
          "source_hidden": false,
          "outputs_hidden": false
        },
        "nteract": {
          "transient": {
            "deleting": false
          }
        }
      }
    },
    {
      "source": [
        "## (2) Use Scala Sql"
      ],
      "cell_type": "markdown",
      "metadata": {}
    },
    {
      "cell_type": "code",
      "source": [
        "%%synapse scala\n",
        "\n",
        "df.createOrReplaceTempView(\"titanic\")\n",
        "var sqlDF = spark.sql(\"SELECT Name, Fare from titanic\")\n",
        "sqlDF.show(5)"
      ],
      "outputs": [],
      "execution_count": null,
      "metadata": {
        "collapsed": true,
        "jupyter": {
          "source_hidden": false,
          "outputs_hidden": false
        },
        "nteract": {
          "transient": {
            "deleting": false
          }
        }
      }
    },
    {
      "source": [
        "# Stop Session"
      ],
      "cell_type": "markdown",
      "metadata": {}
    },
    {
      "cell_type": "code",
      "source": [
        "%synapse stop"
      ],
      "outputs": [],
      "execution_count": null,
      "metadata": {
        "collapsed": true,
        "jupyter": {
          "source_hidden": false,
          "outputs_hidden": false
        },
        "nteract": {
          "transient": {
            "deleting": false
          }
        }
      }
    }
  ],
  "metadata": {
    "kernelspec": {
      "name": "python367jvsc74a57bd02c5ffe25c9930263a27fa10a29b0d13d704950c37371042eda11d0960ed4221c",
      "display_name": "Python 3.6.7 64-bit ('sdktest': conda)"
    },
    "language_info": {
      "name": "python",
      "version": "3.6.7",
      "mimetype": "text/x-python",
      "codemirror_mode": {
        "name": "ipython",
        "version": 3
      },
      "pygments_lexer": "ipython3",
      "nbconvert_exporter": "python",
      "file_extension": ".py"
    },
    "kernel_info": {
      "name": "python3-azureml"
    },
    "nteract": {
      "version": "nteract-front-end@1.0.0"
    }
  },
  "nbformat": 4,
  "nbformat_minor": 4
}